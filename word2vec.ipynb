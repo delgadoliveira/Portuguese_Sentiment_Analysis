{
 "cells": [
  {
   "cell_type": "code",
   "execution_count": 1,
   "metadata": {},
   "outputs": [],
   "source": [
    "# https://deeplearningcourses.com/c/data-science-natural-language-processing-in-python\n",
    "# https://www.udemy.com/data-science-natural-language-processing-in-python\n",
    "\n",
    "# Author: http://lazyprogrammer.me\n",
    "from __future__ import print_function, division\n",
    "from future.utils import iteritems\n",
    "from builtins import range\n",
    "# Note: you may need to update your version of future\n",
    "# sudo pip install -U future\n",
    "\n",
    "\n",
    "from gensim.models import KeyedVectors"
   ]
  },
  {
   "cell_type": "code",
   "execution_count": 2,
   "metadata": {},
   "outputs": [],
   "source": [
    "# warning: takes quite awhile\n",
    "# https://code.google.com/archive/p/word2vec/\n",
    "# direct link: https://drive.google.com/file/d/0B7XkCwpI5KDYNlNUTTlSS21pQmM/edit?usp=sharing\n",
    "# 3 million words and phrases\n",
    "# D = 300\n",
    "word_vectors = KeyedVectors.load_word2vec_format(\n",
    "  'glove/cbow_s100/cbow_s100.txt'\n",
    ")"
   ]
  },
  {
   "cell_type": "code",
   "execution_count": 3,
   "metadata": {},
   "outputs": [],
   "source": [
    "def find_analogies(w1, w2, w3):\n",
    "    r = word_vectors.most_similar(positive=[w1,w3], negative=[w2])\n",
    "    print('%s - %s = %s - %s' % (w1, w2, r[0][0], w3))\n",
    "\n",
    "def nearest_neighbors(w):\n",
    "    r = word_vectors.most_similar(positive=[w])\n",
    "    print('neighbors of: %s' % w)\n",
    "    for word, score in r:\n",
    "        print('\\t%s' % word)\n",
    "        "
   ]
  },
  {
   "cell_type": "code",
   "execution_count": 9,
   "metadata": {},
   "outputs": [
    {
     "name": "stdout",
     "output_type": "stream",
     "text": [
      "rei - homem = esposa - mulher\n",
      "frança - paris = inglaterra - londres\n",
      "frança - paris = grécia - roma\n",
      "neighbors of: rei\n",
      "\timperador\n",
      "\tpríncipe\n",
      "\tex-rei\n",
      "\tmonarca\n",
      "\tpríncipe-herdeiro\n",
      "\tfaraó\n",
      "\tsacro-imperador\n",
      "\tgrão-príncipe\n",
      "\tpríncipe-regente\n",
      "\tsultão\n",
      "neighbors of: frança\n",
      "\titália\n",
      "\tespanha\n",
      "\tinglaterra\n",
      "\tsuécia\n",
      "\tdinamarca\n",
      "\trússia\n",
      "\talemanha\n",
      "\táustria\n",
      "\tgrã-bretanha\n",
      "\tholanda\n"
     ]
    }
   ],
   "source": [
    "find_analogies('rei', 'homem','mulher')\n",
    "find_analogies('frança', 'paris','londres')\n",
    "find_analogies('frança', 'paris','roma')\n",
    "\n",
    "nearest_neighbors('rei')\n",
    "nearest_neighbors('frança')"
   ]
  }
 ],
 "metadata": {
  "kernelspec": {
   "display_name": "Python 3",
   "language": "python",
   "name": "python3"
  },
  "language_info": {
   "codemirror_mode": {
    "name": "ipython",
    "version": 3
   },
   "file_extension": ".py",
   "mimetype": "text/x-python",
   "name": "python",
   "nbconvert_exporter": "python",
   "pygments_lexer": "ipython3",
   "version": "3.6.8"
  }
 },
 "nbformat": 4,
 "nbformat_minor": 2
}
